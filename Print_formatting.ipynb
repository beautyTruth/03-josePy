{
 "cells": [
  {
   "cell_type": "code",
   "execution_count": 1,
   "id": "11743853",
   "metadata": {},
   "outputs": [
    {
     "name": "stdout",
     "output_type": "stream",
     "text": [
      "This is a peach EATEN\n"
     ]
    }
   ],
   "source": [
    "print('This is a peach {}'.format('EATEN'))"
   ]
  },
  {
   "cell_type": "code",
   "execution_count": 4,
   "id": "9810fbf7",
   "metadata": {},
   "outputs": [
    {
     "name": "stdout",
     "output_type": "stream",
     "text": [
      "The eaten was peach\n"
     ]
    }
   ],
   "source": [
    "print('The {2} {1} {0}'.format('peach','was','eaten'))"
   ]
  },
  {
   "cell_type": "code",
   "execution_count": 5,
   "id": "7f1a8e66",
   "metadata": {},
   "outputs": [
    {
     "name": "stdout",
     "output_type": "stream",
     "text": [
      "The peach was juicy\n"
     ]
    }
   ],
   "source": [
    "print('The {p} {w} {j}'.format(j='juicy',p='peach',w='was'))"
   ]
  },
  {
   "cell_type": "markdown",
   "id": "5cb54eda",
   "metadata": {},
   "source": [
    "now we shall talk about float formatting"
   ]
  },
  {
   "cell_type": "code",
   "execution_count": 6,
   "id": "872e22d0",
   "metadata": {},
   "outputs": [],
   "source": [
    "result = 100/777"
   ]
  },
  {
   "cell_type": "code",
   "execution_count": 7,
   "id": "f48e529c",
   "metadata": {},
   "outputs": [
    {
     "data": {
      "text/plain": [
       "0.1287001287001287"
      ]
     },
     "execution_count": 7,
     "metadata": {},
     "output_type": "execute_result"
    }
   ],
   "source": [
    "result"
   ]
  },
  {
   "cell_type": "code",
   "execution_count": 10,
   "id": "61c95fab",
   "metadata": {},
   "outputs": [
    {
     "name": "stdout",
     "output_type": "stream",
     "text": [
      "The result was 0.129\n"
     ]
    }
   ],
   "source": [
    "print('The result was {r:1.3f}'.format(r=result))"
   ]
  },
  {
   "cell_type": "markdown",
   "id": "1d0eb3d4",
   "metadata": {},
   "source": [
    "float formatting is like this -- {value:width.precision f}"
   ]
  },
  {
   "cell_type": "markdown",
   "id": "416c5f89",
   "metadata": {},
   "source": [
    "now we will talk about f string literals"
   ]
  },
  {
   "cell_type": "code",
   "execution_count": null,
   "id": "8cf1e663",
   "metadata": {},
   "outputs": [],
   "source": []
  },
  {
   "cell_type": "code",
   "execution_count": null,
   "id": "bd1a4965",
   "metadata": {},
   "outputs": [],
   "source": []
  },
  {
   "cell_type": "code",
   "execution_count": 11,
   "id": "ab0fe65d",
   "metadata": {},
   "outputs": [],
   "source": [
    "name = \"Phil\""
   ]
  },
  {
   "cell_type": "code",
   "execution_count": 12,
   "id": "a4465e9b",
   "metadata": {},
   "outputs": [
    {
     "name": "stdout",
     "output_type": "stream",
     "text": [
      "Hello, my name is Phil\n"
     ]
    }
   ],
   "source": [
    "print(f'Hello, my name is {name}')"
   ]
  },
  {
   "cell_type": "code",
   "execution_count": 13,
   "id": "349291e8",
   "metadata": {},
   "outputs": [],
   "source": [
    "name = \"Heather\"\n",
    "age = 27"
   ]
  },
  {
   "cell_type": "code",
   "execution_count": 15,
   "id": "11223a85",
   "metadata": {},
   "outputs": [
    {
     "name": "stdout",
     "output_type": "stream",
     "text": [
      "Heather is 27 years old.\n"
     ]
    }
   ],
   "source": [
    "print(f'{name} is {age} years old.')"
   ]
  },
  {
   "cell_type": "code",
   "execution_count": null,
   "id": "f81ec2e8",
   "metadata": {},
   "outputs": [],
   "source": []
  }
 ],
 "metadata": {
  "kernelspec": {
   "display_name": "Python 3 (ipykernel)",
   "language": "python",
   "name": "python3"
  },
  "language_info": {
   "codemirror_mode": {
    "name": "ipython",
    "version": 3
   },
   "file_extension": ".py",
   "mimetype": "text/x-python",
   "name": "python",
   "nbconvert_exporter": "python",
   "pygments_lexer": "ipython3",
   "version": "3.11.3"
  }
 },
 "nbformat": 4,
 "nbformat_minor": 5
}

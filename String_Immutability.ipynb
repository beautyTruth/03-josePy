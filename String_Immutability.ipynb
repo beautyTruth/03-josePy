{
 "cells": [
  {
   "cell_type": "code",
   "execution_count": 24,
   "id": "5a25ca84",
   "metadata": {},
   "outputs": [],
   "source": [
    "name = 'Sam'"
   ]
  },
  {
   "cell_type": "code",
   "execution_count": 2,
   "id": "7db1c4b1",
   "metadata": {},
   "outputs": [],
   "source": [
    "# name[0] = 'P'"
   ]
  },
  {
   "cell_type": "markdown",
   "id": "4b9ce7a1",
   "metadata": {},
   "source": [
    "this jupyter notebook is talking about the immutability of strings and concatenation "
   ]
  },
  {
   "cell_type": "code",
   "execution_count": 5,
   "id": "5ad3d5dd",
   "metadata": {},
   "outputs": [],
   "source": [
    "last_letters = name[1:]"
   ]
  },
  {
   "cell_type": "code",
   "execution_count": 6,
   "id": "b261f2dd",
   "metadata": {},
   "outputs": [
    {
     "data": {
      "text/plain": [
       "'am'"
      ]
     },
     "execution_count": 6,
     "metadata": {},
     "output_type": "execute_result"
    }
   ],
   "source": [
    "last_letters"
   ]
  },
  {
   "cell_type": "code",
   "execution_count": 7,
   "id": "02d28c58",
   "metadata": {},
   "outputs": [
    {
     "data": {
      "text/plain": [
       "'Pam'"
      ]
     },
     "execution_count": 7,
     "metadata": {},
     "output_type": "execute_result"
    }
   ],
   "source": [
    "'P' + last_letters"
   ]
  },
  {
   "cell_type": "code",
   "execution_count": 8,
   "id": "cc302ba3",
   "metadata": {},
   "outputs": [],
   "source": [
    "wife_of_jim = 'P'+last_letters"
   ]
  },
  {
   "cell_type": "code",
   "execution_count": 9,
   "id": "68dc2a51",
   "metadata": {},
   "outputs": [
    {
     "data": {
      "text/plain": [
       "'Pam'"
      ]
     },
     "execution_count": 9,
     "metadata": {},
     "output_type": "execute_result"
    }
   ],
   "source": [
    "wife_of_jim"
   ]
  },
  {
   "cell_type": "code",
   "execution_count": 18,
   "id": "c1460a81",
   "metadata": {},
   "outputs": [],
   "source": [
    "x = 'Hello Lauren'"
   ]
  },
  {
   "cell_type": "code",
   "execution_count": 19,
   "id": "5fad265d",
   "metadata": {},
   "outputs": [],
   "source": [
    "x = x + \", I want to eat your peach with hot sauce!\""
   ]
  },
  {
   "cell_type": "code",
   "execution_count": 20,
   "id": "f592f357",
   "metadata": {},
   "outputs": [
    {
     "data": {
      "text/plain": [
       "'Hello Lauren, I want to eat your peach with hot sauce!'"
      ]
     },
     "execution_count": 20,
     "metadata": {},
     "output_type": "execute_result"
    }
   ],
   "source": [
    "x"
   ]
  },
  {
   "cell_type": "markdown",
   "id": "5ea23313",
   "metadata": {},
   "source": [
    "We're talking about concatenation here"
   ]
  },
  {
   "cell_type": "code",
   "execution_count": 22,
   "id": "64c39f04",
   "metadata": {},
   "outputs": [],
   "source": [
    "letter=\"z\""
   ]
  },
  {
   "cell_type": "code",
   "execution_count": 23,
   "id": "662d212e",
   "metadata": {},
   "outputs": [
    {
     "data": {
      "text/plain": [
       "'zzzzzzzzzz'"
      ]
     },
     "execution_count": 23,
     "metadata": {},
     "output_type": "execute_result"
    }
   ],
   "source": [
    "letter*10"
   ]
  },
  {
   "cell_type": "code",
   "execution_count": 25,
   "id": "6efe5591",
   "metadata": {},
   "outputs": [],
   "source": [
    "x = 'Lucky Penny'"
   ]
  },
  {
   "cell_type": "code",
   "execution_count": 26,
   "id": "385d0451",
   "metadata": {},
   "outputs": [
    {
     "data": {
      "text/plain": [
       "'LUCKY PENNY'"
      ]
     },
     "execution_count": 26,
     "metadata": {},
     "output_type": "execute_result"
    }
   ],
   "source": [
    "x.upper()"
   ]
  },
  {
   "cell_type": "code",
   "execution_count": 27,
   "id": "82c6634a",
   "metadata": {},
   "outputs": [
    {
     "data": {
      "text/plain": [
       "'lucky penny'"
      ]
     },
     "execution_count": 27,
     "metadata": {},
     "output_type": "execute_result"
    }
   ],
   "source": [
    "x.lower()"
   ]
  },
  {
   "cell_type": "code",
   "execution_count": 28,
   "id": "f071a06d",
   "metadata": {},
   "outputs": [
    {
     "data": {
      "text/plain": [
       "['Lucky', 'Penny']"
      ]
     },
     "execution_count": 28,
     "metadata": {},
     "output_type": "execute_result"
    }
   ],
   "source": [
    "x.split()"
   ]
  },
  {
   "cell_type": "code",
   "execution_count": 29,
   "id": "4574c37b",
   "metadata": {},
   "outputs": [],
   "source": [
    "y = 'Pick up a lucky penny'"
   ]
  },
  {
   "cell_type": "code",
   "execution_count": 30,
   "id": "f1e369ac",
   "metadata": {},
   "outputs": [
    {
     "data": {
      "text/plain": [
       "['Pick', 'up', 'a', 'lucky', 'penny']"
      ]
     },
     "execution_count": 30,
     "metadata": {},
     "output_type": "execute_result"
    }
   ],
   "source": [
    "y.split()"
   ]
  },
  {
   "cell_type": "code",
   "execution_count": 31,
   "id": "1e7ff548",
   "metadata": {},
   "outputs": [
    {
     "data": {
      "text/plain": [
       "['Pick ', 'p a l', 'cky penny']"
      ]
     },
     "execution_count": 31,
     "metadata": {},
     "output_type": "execute_result"
    }
   ],
   "source": [
    "y.split('u')"
   ]
  },
  {
   "cell_type": "code",
   "execution_count": null,
   "id": "5a891a29",
   "metadata": {},
   "outputs": [],
   "source": []
  }
 ],
 "metadata": {
  "kernelspec": {
   "display_name": "Python 3 (ipykernel)",
   "language": "python",
   "name": "python3"
  },
  "language_info": {
   "codemirror_mode": {
    "name": "ipython",
    "version": 3
   },
   "file_extension": ".py",
   "mimetype": "text/x-python",
   "name": "python",
   "nbconvert_exporter": "python",
   "pygments_lexer": "ipython3",
   "version": "3.11.3"
  }
 },
 "nbformat": 4,
 "nbformat_minor": 5
}
